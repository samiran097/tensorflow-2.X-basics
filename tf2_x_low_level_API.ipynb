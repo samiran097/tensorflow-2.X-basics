{
  "nbformat": 4,
  "nbformat_minor": 0,
  "metadata": {
    "colab": {
      "name": "tf2.x_low_level_API.ipynb",
      "provenance": [],
      "collapsed_sections": [
        "9JQkipjjbF0c",
        "l9BYEuAjZrbL"
      ],
      "mount_file_id": "1n_2zxJ_m5RvH429tQewlhvZjRAgrWL-b",
      "authorship_tag": "ABX9TyOT8dSS6DEyLCR6Dd18QWX9",
      "include_colab_link": true
    },
    "kernelspec": {
      "name": "python3",
      "display_name": "Python 3"
    },
    "language_info": {
      "name": "python"
    }
  },
  "cells": [
    {
      "cell_type": "markdown",
      "metadata": {
        "id": "view-in-github",
        "colab_type": "text"
      },
      "source": [
        "<a href=\"https://colab.research.google.com/github/samiran097/tensorflow-2.X-basics/blob/main/tf2_x_low_level_API.ipynb\" target=\"_parent\"><img src=\"https://colab.research.google.com/assets/colab-badge.svg\" alt=\"Open In Colab\"/></a>"
      ]
    },
    {
      "cell_type": "code",
      "metadata": {
        "id": "LKClU5x9Geme"
      },
      "source": [
        ""
      ],
      "execution_count": null,
      "outputs": []
    },
    {
      "cell_type": "markdown",
      "metadata": {
        "id": "9JQkipjjbF0c"
      },
      "source": [
        "### Tensor uses GPU\n",
        "### Numpy uses CPU"
      ]
    },
    {
      "cell_type": "markdown",
      "metadata": {
        "id": "y4i1KT5GXTn5"
      },
      "source": [
        "## Tensorflow 2.x low level API"
      ]
    },
    {
      "cell_type": "code",
      "metadata": {
        "id": "pap83wT4XXlG"
      },
      "source": [
        "import tensorflow as tf"
      ],
      "execution_count": null,
      "outputs": []
    },
    {
      "cell_type": "markdown",
      "metadata": {
        "id": "24R58jCKXlLM"
      },
      "source": [
        "# What is keras ? Is it high level API or low level\n",
        "\n",
        "### Keras is an high level API [in very less code we would achieve lot of functationalities]"
      ]
    },
    {
      "cell_type": "markdown",
      "metadata": {
        "id": "193taFVJX5FJ"
      },
      "source": [
        "## Tensor Constant\n",
        "\n",
        "### Tensor : Multi dimentional arrays [In DL we use these matrices , those will be handled by tensor]"
      ]
    },
    {
      "cell_type": "code",
      "metadata": {
        "id": "Pl9bCL7uX7Bu"
      },
      "source": [
        "const = tf.constant(43)"
      ],
      "execution_count": null,
      "outputs": []
    },
    {
      "cell_type": "code",
      "metadata": {
        "colab": {
          "base_uri": "https://localhost:8080/"
        },
        "id": "cue_rO-DYUwi",
        "outputId": "242a3587-17db-4dda-8ccf-24d16fd2135b"
      },
      "source": [
        "const"
      ],
      "execution_count": null,
      "outputs": [
        {
          "output_type": "execute_result",
          "data": {
            "text/plain": [
              "<tf.Tensor: shape=(), dtype=int32, numpy=43>"
            ]
          },
          "metadata": {},
          "execution_count": 5
        }
      ]
    },
    {
      "cell_type": "code",
      "metadata": {
        "colab": {
          "base_uri": "https://localhost:8080/"
        },
        "id": "iBMK7cw8YiUv",
        "outputId": "2cca59a7-22a9-419a-a2f6-dcbb485d6f35"
      },
      "source": [
        "const.numpy()"
      ],
      "execution_count": null,
      "outputs": [
        {
          "output_type": "execute_result",
          "data": {
            "text/plain": [
              "43"
            ]
          },
          "metadata": {},
          "execution_count": 6
        }
      ]
    },
    {
      "cell_type": "code",
      "metadata": {
        "colab": {
          "base_uri": "https://localhost:8080/"
        },
        "id": "P8LusmLCYlvg",
        "outputId": "daaa3572-b5ba-433c-b192-f73fa678a02e"
      },
      "source": [
        "## specify the datatype\n",
        "const = tf.constant(43,dtype=tf.int64)\n",
        "const"
      ],
      "execution_count": null,
      "outputs": [
        {
          "output_type": "execute_result",
          "data": {
            "text/plain": [
              "<tf.Tensor: shape=(), dtype=int64, numpy=43>"
            ]
          },
          "metadata": {},
          "execution_count": 7
        }
      ]
    },
    {
      "cell_type": "code",
      "metadata": {
        "colab": {
          "base_uri": "https://localhost:8080/"
        },
        "id": "p8xNAuvrY7wg",
        "outputId": "5457920f-9fef-4056-baa7-18ce8d951edf"
      },
      "source": [
        "## define a constant matrix\n",
        "const_mat = tf.constant([[4,2],[9,5]])\n",
        "const_mat"
      ],
      "execution_count": null,
      "outputs": [
        {
          "output_type": "execute_result",
          "data": {
            "text/plain": [
              "<tf.Tensor: shape=(2, 2), dtype=int32, numpy=\n",
              "array([[4, 2],\n",
              "       [9, 5]], dtype=int32)>"
            ]
          },
          "metadata": {},
          "execution_count": 9
        }
      ]
    },
    {
      "cell_type": "code",
      "metadata": {
        "colab": {
          "base_uri": "https://localhost:8080/"
        },
        "id": "3RHkWoKNZJ40",
        "outputId": "cbb9bd76-3b04-4100-a21c-0b02acd6afcb"
      },
      "source": [
        "const_mat * 4"
      ],
      "execution_count": null,
      "outputs": [
        {
          "output_type": "execute_result",
          "data": {
            "text/plain": [
              "<tf.Tensor: shape=(2, 2), dtype=int32, numpy=\n",
              "array([[16,  8],\n",
              "       [36, 20]], dtype=int32)>"
            ]
          },
          "metadata": {},
          "execution_count": 10
        }
      ]
    },
    {
      "cell_type": "code",
      "metadata": {
        "colab": {
          "base_uri": "https://localhost:8080/"
        },
        "id": "J97Qh4rYZQ8p",
        "outputId": "0299bbe1-1046-44e4-c30b-c3407c2cd0a8"
      },
      "source": [
        "const_mat.shape"
      ],
      "execution_count": null,
      "outputs": [
        {
          "output_type": "execute_result",
          "data": {
            "text/plain": [
              "TensorShape([2, 2])"
            ]
          },
          "metadata": {},
          "execution_count": 11
        }
      ]
    },
    {
      "cell_type": "code",
      "metadata": {
        "colab": {
          "base_uri": "https://localhost:8080/"
        },
        "id": "0OY1uWDHZTUI",
        "outputId": "e7d6781e-4fd9-47eb-8e51-bc71a1435f8d"
      },
      "source": [
        "const_mat.dtype"
      ],
      "execution_count": null,
      "outputs": [
        {
          "output_type": "execute_result",
          "data": {
            "text/plain": [
              "tf.int32"
            ]
          },
          "metadata": {},
          "execution_count": 12
        }
      ]
    },
    {
      "cell_type": "markdown",
      "metadata": {
        "id": "l9BYEuAjZrbL"
      },
      "source": [
        "### observe: Increase the no. of hidden layers & observe what happens to size of the model that you save ==> increase\n",
        "\n",
        "### Query: Before & after training will the model size will remain same or increase or decrease ? ==>remains same\n",
        "\n",
        "### If you increase the depth of the model (increase the hidden layer) then during prediction the model will take more time compared to another model with less depth"
      ]
    },
    {
      "cell_type": "markdown",
      "metadata": {
        "id": "_LxMu3jeau5r"
      },
      "source": [
        "### Commonly used method"
      ]
    },
    {
      "cell_type": "code",
      "metadata": {
        "colab": {
          "base_uri": "https://localhost:8080/"
        },
        "id": "SSAGcR_jZXAz",
        "outputId": "5b9b6738-c730-49b5-d8fb-a18dad920c71"
      },
      "source": [
        "tf.ones(shape = (2,3)) # this could be utilized during bias and weights initialization"
      ],
      "execution_count": null,
      "outputs": [
        {
          "output_type": "execute_result",
          "data": {
            "text/plain": [
              "<tf.Tensor: shape=(2, 3), dtype=float32, numpy=\n",
              "array([[1., 1., 1.],\n",
              "       [1., 1., 1.]], dtype=float32)>"
            ]
          },
          "metadata": {},
          "execution_count": 42
        }
      ]
    },
    {
      "cell_type": "code",
      "metadata": {
        "colab": {
          "base_uri": "https://localhost:8080/"
        },
        "id": "2g9GBtANa1Lh",
        "outputId": "f8e6fb08-d8df-402a-8382-83856721d285"
      },
      "source": [
        "tf.zeros(shape = (2,3))"
      ],
      "execution_count": null,
      "outputs": [
        {
          "output_type": "execute_result",
          "data": {
            "text/plain": [
              "<tf.Tensor: shape=(2, 3), dtype=float32, numpy=\n",
              "array([[0., 0., 0.],\n",
              "       [0., 0., 0.]], dtype=float32)>"
            ]
          },
          "metadata": {},
          "execution_count": 43
        }
      ]
    },
    {
      "cell_type": "code",
      "metadata": {
        "colab": {
          "base_uri": "https://localhost:8080/"
        },
        "id": "yY-lmk1ebBcY",
        "outputId": "c7e11703-c80e-4bae-ae18-f1ad3ff81f4e"
      },
      "source": [
        "tf.ones(shape = (2,3)) * 7"
      ],
      "execution_count": null,
      "outputs": [
        {
          "output_type": "execute_result",
          "data": {
            "text/plain": [
              "<tf.Tensor: shape=(2, 3), dtype=float32, numpy=\n",
              "array([[7., 7., 7.],\n",
              "       [7., 7., 7.]], dtype=float32)>"
            ]
          },
          "metadata": {},
          "execution_count": 44
        }
      ]
    },
    {
      "cell_type": "code",
      "metadata": {
        "id": "IvkjJ9gUbSlB"
      },
      "source": [
        "## Add operations - cond.  the shape of the matrices should be same\n",
        "const1 = tf.constant([[11,3,4],[3,4,5]])\n",
        "const2 = tf.constant([[7,9,5],[3,4,5]])\n"
      ],
      "execution_count": null,
      "outputs": []
    },
    {
      "cell_type": "code",
      "metadata": {
        "colab": {
          "base_uri": "https://localhost:8080/"
        },
        "id": "gEcdlvhgbo_A",
        "outputId": "de59df2b-56ca-4593-99ba-60847338e591"
      },
      "source": [
        "tf.add(const1,const2)"
      ],
      "execution_count": null,
      "outputs": [
        {
          "output_type": "execute_result",
          "data": {
            "text/plain": [
              "<tf.Tensor: shape=(2, 3), dtype=int32, numpy=\n",
              "array([[18, 12,  9],\n",
              "       [ 6,  8, 10]], dtype=int32)>"
            ]
          },
          "metadata": {},
          "execution_count": 46
        }
      ]
    },
    {
      "cell_type": "code",
      "metadata": {
        "colab": {
          "base_uri": "https://localhost:8080/"
        },
        "id": "Xb06lGMyb1sY",
        "outputId": "e4197ae0-c0ec-4406-ee73-8ca15f9e06d6"
      },
      "source": [
        "const1 + const2"
      ],
      "execution_count": null,
      "outputs": [
        {
          "output_type": "execute_result",
          "data": {
            "text/plain": [
              "<tf.Tensor: shape=(2, 3), dtype=int32, numpy=\n",
              "array([[18, 12,  9],\n",
              "       [ 6,  8, 10]], dtype=int32)>"
            ]
          },
          "metadata": {},
          "execution_count": 47
        }
      ]
    },
    {
      "cell_type": "code",
      "metadata": {
        "colab": {
          "base_uri": "https://localhost:8080/"
        },
        "id": "BfTtRRbvcjuw",
        "outputId": "15f0e47b-7b03-46ee-b72e-f9667affda84"
      },
      "source": [
        "# Random constant\n",
        "x = tf.random.normal(shape = (2,2),mean=0,stddev=1.0)\n",
        "x"
      ],
      "execution_count": null,
      "outputs": [
        {
          "output_type": "execute_result",
          "data": {
            "text/plain": [
              "<tf.Tensor: shape=(2, 2), dtype=float32, numpy=\n",
              "array([[ 1.1644264 , -0.70312357],\n",
              "       [-1.4109277 ,  0.54066956]], dtype=float32)>"
            ]
          },
          "metadata": {},
          "execution_count": 48
        }
      ]
    },
    {
      "cell_type": "code",
      "metadata": {
        "colab": {
          "base_uri": "https://localhost:8080/"
        },
        "id": "u0_35q0fcvuZ",
        "outputId": "37b78dbd-66ae-4fde-c731-6c871ce7e7a3"
      },
      "source": [
        "x = tf.random.uniform(shape=(2,2),minval=0,maxval=10)\n",
        "x"
      ],
      "execution_count": null,
      "outputs": [
        {
          "output_type": "execute_result",
          "data": {
            "text/plain": [
              "<tf.Tensor: shape=(2, 2), dtype=float32, numpy=\n",
              "array([[0.865916 , 3.290447 ],\n",
              "       [3.1456745, 9.992277 ]], dtype=float32)>"
            ]
          },
          "metadata": {},
          "execution_count": 49
        }
      ]
    },
    {
      "cell_type": "code",
      "metadata": {
        "colab": {
          "base_uri": "https://localhost:8080/"
        },
        "id": "jkGnJrf9nHhA",
        "outputId": "a90886ba-fbd0-4f45-8574-b807ce9602dc"
      },
      "source": [
        "x = tf.random.uniform(shape=(2,2),minval=0,maxval=10,dtype=tf.int32)\n",
        "x"
      ],
      "execution_count": null,
      "outputs": [
        {
          "output_type": "execute_result",
          "data": {
            "text/plain": [
              "<tf.Tensor: shape=(2, 2), dtype=int32, numpy=\n",
              "array([[7, 1],\n",
              "       [8, 6]], dtype=int32)>"
            ]
          },
          "metadata": {},
          "execution_count": 50
        }
      ]
    },
    {
      "cell_type": "code",
      "metadata": {
        "colab": {
          "base_uri": "https://localhost:8080/"
        },
        "id": "UOU9XM2UnQzA",
        "outputId": "3c04bdcb-9da8-457e-c6aa-cdc307f4d229"
      },
      "source": [
        "# Variables\n",
        "var1= tf.Variable(45.55,dtype=tf.float16)\n",
        "\n",
        "var2 = tf.Variable([[2,3],[4,5]])\n",
        "\n",
        "var1\n",
        "\n",
        "## fload16 / float32 / floatN, will have varing size & based on target deployment the accuracy gets affected"
      ],
      "execution_count": null,
      "outputs": [
        {
          "output_type": "execute_result",
          "data": {
            "text/plain": [
              "<tf.Variable 'Variable:0' shape=() dtype=float16, numpy=45.56>"
            ]
          },
          "metadata": {},
          "execution_count": 51
        }
      ]
    },
    {
      "cell_type": "code",
      "metadata": {
        "colab": {
          "base_uri": "https://localhost:8080/"
        },
        "id": "z_V2dYLBoQJp",
        "outputId": "d778d85e-27ab-43b4-db6f-9220aac5424a"
      },
      "source": [
        "var2.numpy()"
      ],
      "execution_count": null,
      "outputs": [
        {
          "output_type": "execute_result",
          "data": {
            "text/plain": [
              "array([[2, 3],\n",
              "       [4, 5]], dtype=int32)"
            ]
          },
          "metadata": {},
          "execution_count": 52
        }
      ]
    },
    {
      "cell_type": "code",
      "metadata": {
        "id": "RL7AfQZfofEx",
        "colab": {
          "base_uri": "https://localhost:8080/"
        },
        "outputId": "520886c9-e629-4f8c-c05e-4fd022595a4d"
      },
      "source": [
        "# Assigning\n",
        "## Reassign a variable , var.assign() - used during weight update\n",
        "var1 = tf.Variable(45.4,dtype=tf.float16)\n",
        "var1"
      ],
      "execution_count": null,
      "outputs": [
        {
          "output_type": "execute_result",
          "data": {
            "text/plain": [
              "<tf.Variable 'Variable:0' shape=() dtype=float16, numpy=45.4>"
            ]
          },
          "metadata": {},
          "execution_count": 5
        }
      ]
    },
    {
      "cell_type": "code",
      "metadata": {
        "colab": {
          "base_uri": "https://localhost:8080/"
        },
        "id": "cLhIYrYu6JFG",
        "outputId": "e98b7806-ea56-44e2-964a-7d681570d810"
      },
      "source": [
        "var1.assign(99)\n",
        "var1"
      ],
      "execution_count": null,
      "outputs": [
        {
          "output_type": "execute_result",
          "data": {
            "text/plain": [
              "<tf.Variable 'Variable:0' shape=() dtype=float16, numpy=99.0>"
            ]
          },
          "metadata": {},
          "execution_count": 6
        }
      ]
    },
    {
      "cell_type": "code",
      "metadata": {
        "colab": {
          "base_uri": "https://localhost:8080/"
        },
        "id": "jnr93-Cv6Opr",
        "outputId": "7d82bcf8-337f-49f1-8616-0da603004339"
      },
      "source": [
        "## reshaping operation - used in image formating\n",
        "tensor = tf.Variable([[[10,11,12],[13,15,18]],[[10,11,12],[13,15,18]]])\n",
        "tensor"
      ],
      "execution_count": null,
      "outputs": [
        {
          "output_type": "execute_result",
          "data": {
            "text/plain": [
              "<tf.Variable 'Variable:0' shape=(2, 2, 3) dtype=int32, numpy=\n",
              "array([[[10, 11, 12],\n",
              "        [13, 15, 18]],\n",
              "\n",
              "       [[10, 11, 12],\n",
              "        [13, 15, 18]]], dtype=int32)>"
            ]
          },
          "metadata": {},
          "execution_count": 55
        }
      ]
    },
    {
      "cell_type": "code",
      "metadata": {
        "colab": {
          "base_uri": "https://localhost:8080/"
        },
        "id": "Fv1D96wG6y3O",
        "outputId": "53933466-fe3f-4307-a7cc-9e9171054079"
      },
      "source": [
        "reshape_val = tf.reshape(tensor,shape=(2,6))\n",
        "reshape_val"
      ],
      "execution_count": null,
      "outputs": [
        {
          "output_type": "execute_result",
          "data": {
            "text/plain": [
              "<tf.Tensor: shape=(2, 6), dtype=int32, numpy=\n",
              "array([[10, 11, 12, 13, 15, 18],\n",
              "       [10, 11, 12, 13, 15, 18]], dtype=int32)>"
            ]
          },
          "metadata": {},
          "execution_count": 56
        }
      ]
    },
    {
      "cell_type": "code",
      "metadata": {
        "colab": {
          "base_uri": "https://localhost:8080/"
        },
        "id": "zenUH8Uv7Rvl",
        "outputId": "d89383d2-b714-49cb-b22a-abfa9a02f4f4"
      },
      "source": [
        "# Flattening operation\n",
        "reshape_val = tf.reshape(tensor,shape=(1,12))\n",
        "reshape_val"
      ],
      "execution_count": null,
      "outputs": [
        {
          "output_type": "execute_result",
          "data": {
            "text/plain": [
              "<tf.Tensor: shape=(1, 12), dtype=int32, numpy=array([[10, 11, 12, 13, 15, 18, 10, 11, 12, 13, 15, 18]], dtype=int32)>"
            ]
          },
          "metadata": {},
          "execution_count": 57
        }
      ]
    },
    {
      "cell_type": "code",
      "metadata": {
        "colab": {
          "base_uri": "https://localhost:8080/"
        },
        "id": "nCs7ZxXo8KLW",
        "outputId": "0bf5588a-6013-47b8-f0d3-b809c23bcf9a"
      },
      "source": [
        "# rank of the tensor --> is the no. of dimensions\n",
        "tf.rank(reshape_val)"
      ],
      "execution_count": null,
      "outputs": [
        {
          "output_type": "execute_result",
          "data": {
            "text/plain": [
              "<tf.Tensor: shape=(), dtype=int32, numpy=2>"
            ]
          },
          "metadata": {},
          "execution_count": 58
        }
      ]
    },
    {
      "cell_type": "code",
      "metadata": {
        "colab": {
          "base_uri": "https://localhost:8080/"
        },
        "id": "Jmc0_L0P8UTo",
        "outputId": "e863a3a0-01b7-40a9-f324-eafefcba45a9"
      },
      "source": [
        "# Slicing - croping of image\n",
        "tensor"
      ],
      "execution_count": null,
      "outputs": [
        {
          "output_type": "execute_result",
          "data": {
            "text/plain": [
              "<tf.Variable 'Variable:0' shape=(2, 2, 3) dtype=int32, numpy=\n",
              "array([[[10, 11, 12],\n",
              "        [13, 15, 18]],\n",
              "\n",
              "       [[10, 11, 12],\n",
              "        [13, 15, 18]]], dtype=int32)>"
            ]
          },
          "metadata": {},
          "execution_count": 59
        }
      ]
    },
    {
      "cell_type": "code",
      "metadata": {
        "colab": {
          "base_uri": "https://localhost:8080/"
        },
        "id": "3DQu6_Ls8rxc",
        "outputId": "16c21075-c116-406e-fc54-d5b5044f52a7"
      },
      "source": [
        "tensor[0, 1, 1]"
      ],
      "execution_count": null,
      "outputs": [
        {
          "output_type": "execute_result",
          "data": {
            "text/plain": [
              "<tf.Tensor: shape=(), dtype=int32, numpy=15>"
            ]
          },
          "metadata": {},
          "execution_count": 60
        }
      ]
    },
    {
      "cell_type": "code",
      "metadata": {
        "colab": {
          "base_uri": "https://localhost:8080/"
        },
        "id": "3WDBeURl8u8l",
        "outputId": "d040c5f7-1a8a-4555-e836-58bcaae8dcb0"
      },
      "source": [
        "tensor[:,:,:]"
      ],
      "execution_count": null,
      "outputs": [
        {
          "output_type": "execute_result",
          "data": {
            "text/plain": [
              "<tf.Tensor: shape=(2, 2, 3), dtype=int32, numpy=\n",
              "array([[[10, 11, 12],\n",
              "        [13, 15, 18]],\n",
              "\n",
              "       [[10, 11, 12],\n",
              "        [13, 15, 18]]], dtype=int32)>"
            ]
          },
          "metadata": {},
          "execution_count": 61
        }
      ]
    },
    {
      "cell_type": "code",
      "metadata": {
        "colab": {
          "base_uri": "https://localhost:8080/"
        },
        "id": "tJeNvo9o9SWt",
        "outputId": "6ceec900-6383-4516-f41b-9e74837d4d78"
      },
      "source": [
        "tensor[0,:,:]"
      ],
      "execution_count": null,
      "outputs": [
        {
          "output_type": "execute_result",
          "data": {
            "text/plain": [
              "<tf.Tensor: shape=(2, 3), dtype=int32, numpy=\n",
              "array([[10, 11, 12],\n",
              "       [13, 15, 18]], dtype=int32)>"
            ]
          },
          "metadata": {},
          "execution_count": 62
        }
      ]
    },
    {
      "cell_type": "code",
      "metadata": {
        "colab": {
          "base_uri": "https://localhost:8080/"
        },
        "id": "bRiOelvZ9fMG",
        "outputId": "9caacf63-dbba-45de-bca3-77989d310a58"
      },
      "source": [
        "tensor[0,:,1:]"
      ],
      "execution_count": null,
      "outputs": [
        {
          "output_type": "execute_result",
          "data": {
            "text/plain": [
              "<tf.Tensor: shape=(2, 2), dtype=int32, numpy=\n",
              "array([[11, 12],\n",
              "       [15, 18]], dtype=int32)>"
            ]
          },
          "metadata": {},
          "execution_count": 63
        }
      ]
    },
    {
      "cell_type": "markdown",
      "metadata": {
        "id": "gE6JA6Gd_jwU"
      },
      "source": [
        "## Mathematical Operations"
      ]
    },
    {
      "cell_type": "code",
      "metadata": {
        "colab": {
          "base_uri": "https://localhost:8080/"
        },
        "id": "KqhXq5PA9j-F",
        "outputId": "3b1e8b78-680b-449b-af74-276ef82affeb"
      },
      "source": [
        "a = tf.random.normal((2,3))\n",
        "b = tf.random.normal((2,3))\n",
        "\n",
        "c = a + b\n",
        "c"
      ],
      "execution_count": null,
      "outputs": [
        {
          "output_type": "execute_result",
          "data": {
            "text/plain": [
              "<tf.Tensor: shape=(2, 3), dtype=float32, numpy=\n",
              "array([[ 3.836577  ,  0.15468991, -1.6021236 ],\n",
              "       [ 1.7868885 , -0.9830315 , -0.23151112]], dtype=float32)>"
            ]
          },
          "metadata": {},
          "execution_count": 27
        }
      ]
    },
    {
      "cell_type": "code",
      "metadata": {
        "colab": {
          "base_uri": "https://localhost:8080/"
        },
        "id": "VLYjlA9V_sQu",
        "outputId": "77e184c9-a20b-44d3-d3c6-b9c6616e1a6f"
      },
      "source": [
        "tf.square(c)"
      ],
      "execution_count": null,
      "outputs": [
        {
          "output_type": "execute_result",
          "data": {
            "text/plain": [
              "<tf.Tensor: shape=(2, 3), dtype=float32, numpy=\n",
              "array([[14.719322  ,  0.02392897,  2.5668    ],\n",
              "       [ 3.1929705 ,  0.966351  ,  0.0535974 ]], dtype=float32)>"
            ]
          },
          "metadata": {},
          "execution_count": 28
        }
      ]
    },
    {
      "cell_type": "code",
      "metadata": {
        "colab": {
          "base_uri": "https://localhost:8080/"
        },
        "id": "yl8Yrn0Z_wr1",
        "outputId": "99c0e2fa-3713-4822-a010-ca1a5661f147"
      },
      "source": [
        "tf.exp(c)"
      ],
      "execution_count": null,
      "outputs": [
        {
          "output_type": "execute_result",
          "data": {
            "text/plain": [
              "<tf.Tensor: shape=(2, 3), dtype=float32, numpy=\n",
              "array([[46.366486  ,  1.1672959 ,  0.20146821],\n",
              "       [ 5.970845  ,  0.37417507,  0.7933339 ]], dtype=float32)>"
            ]
          },
          "metadata": {},
          "execution_count": 29
        }
      ]
    },
    {
      "cell_type": "code",
      "metadata": {
        "colab": {
          "base_uri": "https://localhost:8080/"
        },
        "id": "FPTUeogE_yFu",
        "outputId": "b2dead9f-d218-4c56-fc82-a2208ee9def6"
      },
      "source": [
        "# Element wise multiplication\n",
        "tensor"
      ],
      "execution_count": null,
      "outputs": [
        {
          "output_type": "execute_result",
          "data": {
            "text/plain": [
              "<tf.Variable 'Variable:0' shape=(2, 2, 3) dtype=int32, numpy=\n",
              "array([[[10, 11, 12],\n",
              "        [13, 15, 18]],\n",
              "\n",
              "       [[10, 11, 12],\n",
              "        [13, 15, 18]]], dtype=int32)>"
            ]
          },
          "metadata": {},
          "execution_count": 30
        }
      ]
    },
    {
      "cell_type": "code",
      "metadata": {
        "colab": {
          "base_uri": "https://localhost:8080/"
        },
        "id": "iks_cEvtACjP",
        "outputId": "e5618f08-f69f-471b-cfbe-2c61ddf0b230"
      },
      "source": [
        "tensor * tensor"
      ],
      "execution_count": null,
      "outputs": [
        {
          "output_type": "execute_result",
          "data": {
            "text/plain": [
              "<tf.Tensor: shape=(2, 2, 3), dtype=int32, numpy=\n",
              "array([[[100, 121, 144],\n",
              "        [169, 225, 324]],\n",
              "\n",
              "       [[100, 121, 144],\n",
              "        [169, 225, 324]]], dtype=int32)>"
            ]
          },
          "metadata": {},
          "execution_count": 31
        }
      ]
    },
    {
      "cell_type": "markdown",
      "metadata": {
        "id": "APrbMS6hAMNz"
      },
      "source": [
        "## Broadcasting in Tensorflow"
      ]
    },
    {
      "cell_type": "code",
      "metadata": {
        "colab": {
          "base_uri": "https://localhost:8080/"
        },
        "id": "vcJ_Hl1nAPTG",
        "outputId": "b511615d-1755-4609-e37f-4416c0dd1aee"
      },
      "source": [
        "tensor"
      ],
      "execution_count": null,
      "outputs": [
        {
          "output_type": "execute_result",
          "data": {
            "text/plain": [
              "<tf.Variable 'Variable:0' shape=(2, 2, 3) dtype=int32, numpy=\n",
              "array([[[10, 11, 12],\n",
              "        [13, 15, 18]],\n",
              "\n",
              "       [[10, 11, 12],\n",
              "        [13, 15, 18]]], dtype=int32)>"
            ]
          },
          "metadata": {},
          "execution_count": 32
        }
      ]
    },
    {
      "cell_type": "code",
      "metadata": {
        "colab": {
          "base_uri": "https://localhost:8080/"
        },
        "id": "zW5o4AGCASug",
        "outputId": "3a46a58a-f9b6-4bb1-efb0-6ff1879f097e"
      },
      "source": [
        "scalar = 4\n",
        "tensor * scalar"
      ],
      "execution_count": null,
      "outputs": [
        {
          "output_type": "execute_result",
          "data": {
            "text/plain": [
              "<tf.Tensor: shape=(2, 2, 3), dtype=int32, numpy=\n",
              "array([[[40, 44, 48],\n",
              "        [52, 60, 72]],\n",
              "\n",
              "       [[40, 44, 48],\n",
              "        [52, 60, 72]]], dtype=int32)>"
            ]
          },
          "metadata": {},
          "execution_count": 33
        }
      ]
    },
    {
      "cell_type": "code",
      "metadata": {
        "colab": {
          "base_uri": "https://localhost:8080/"
        },
        "id": "iUotFqZtAVf2",
        "outputId": "2aec0ed1-22f0-497a-f4b3-fdd68251943f"
      },
      "source": [
        "tensor + scalar"
      ],
      "execution_count": null,
      "outputs": [
        {
          "output_type": "execute_result",
          "data": {
            "text/plain": [
              "<tf.Tensor: shape=(2, 2, 3), dtype=int32, numpy=\n",
              "array([[[14, 15, 16],\n",
              "        [17, 19, 22]],\n",
              "\n",
              "       [[14, 15, 16],\n",
              "        [17, 19, 22]]], dtype=int32)>"
            ]
          },
          "metadata": {},
          "execution_count": 35
        }
      ]
    },
    {
      "cell_type": "markdown",
      "metadata": {
        "id": "FCQCZvoBAn9G"
      },
      "source": [
        "## Matrix Multiplication -- > used during W = W + eta*Loss"
      ]
    },
    {
      "cell_type": "code",
      "metadata": {
        "id": "jszJbrHjAaR-"
      },
      "source": [
        "mat_u = tf.constant([[6,7,7]])\n",
        "mat_v = tf.constant([[3,4,3]])"
      ],
      "execution_count": null,
      "outputs": []
    },
    {
      "cell_type": "code",
      "metadata": {
        "colab": {
          "base_uri": "https://localhost:8080/"
        },
        "id": "HzdPGcZ-A3bP",
        "outputId": "2bcd6ffe-4493-466f-f0ec-5ce500b5c636"
      },
      "source": [
        "mat_u * mat_v # This results in elementwise multiplication"
      ],
      "execution_count": null,
      "outputs": [
        {
          "output_type": "execute_result",
          "data": {
            "text/plain": [
              "<tf.Tensor: shape=(1, 3), dtype=int32, numpy=array([[18, 28, 21]], dtype=int32)>"
            ]
          },
          "metadata": {},
          "execution_count": 38
        }
      ]
    },
    {
      "cell_type": "code",
      "metadata": {
        "colab": {
          "base_uri": "https://localhost:8080/"
        },
        "id": "gGMGDB29A4xG",
        "outputId": "05935ecf-8926-4c0d-bfa4-f0a0299d7cd0"
      },
      "source": [
        "tf.matmul(mat_u,tf.transpose(mat_v)) # transpose is used to follow mult rules"
      ],
      "execution_count": null,
      "outputs": [
        {
          "output_type": "execute_result",
          "data": {
            "text/plain": [
              "<tf.Tensor: shape=(1, 1), dtype=int32, numpy=array([[67]], dtype=int32)>"
            ]
          },
          "metadata": {},
          "execution_count": 40
        }
      ]
    },
    {
      "cell_type": "code",
      "metadata": {
        "colab": {
          "base_uri": "https://localhost:8080/"
        },
        "id": "iG_IfiRRA_ou",
        "outputId": "3fcf903e-8c50-4671-8a03-1e6c2ea2773d"
      },
      "source": [
        "# Alternative multiplation method\n",
        "tf.transpose(mat_v) @ mat_u "
      ],
      "execution_count": null,
      "outputs": [
        {
          "output_type": "execute_result",
          "data": {
            "text/plain": [
              "<tf.Tensor: shape=(3, 3), dtype=int32, numpy=\n",
              "array([[18, 21, 21],\n",
              "       [24, 28, 28],\n",
              "       [18, 21, 21]], dtype=int32)>"
            ]
          },
          "metadata": {},
          "execution_count": 41
        }
      ]
    },
    {
      "cell_type": "code",
      "metadata": {
        "colab": {
          "base_uri": "https://localhost:8080/"
        },
        "id": "ojN3wqcNEXeH",
        "outputId": "71526e09-89c5-490b-fa3b-ff2f7519f371"
      },
      "source": [
        " mat_u  @ tf.transpose(mat_v)"
      ],
      "execution_count": null,
      "outputs": [
        {
          "output_type": "execute_result",
          "data": {
            "text/plain": [
              "<tf.Tensor: shape=(1, 1), dtype=int32, numpy=array([[67]], dtype=int32)>"
            ]
          },
          "metadata": {},
          "execution_count": 65
        }
      ]
    },
    {
      "cell_type": "code",
      "metadata": {
        "colab": {
          "base_uri": "https://localhost:8080/"
        },
        "id": "IXMevCFGEkYC",
        "outputId": "5a551d8f-eca6-411c-fe33-7556d55e39e6"
      },
      "source": [
        "### Casting method in tf to change the datatype\n",
        "tf.cast(mat_u,dtype=tf.int16) ### << can be utilized in quantization --> {used during deployment}"
      ],
      "execution_count": null,
      "outputs": [
        {
          "output_type": "execute_result",
          "data": {
            "text/plain": [
              "<tf.Tensor: shape=(1, 3), dtype=int16, numpy=array([[6, 7, 7]], dtype=int16)>"
            ]
          },
          "metadata": {},
          "execution_count": 67
        }
      ]
    },
    {
      "cell_type": "code",
      "metadata": {
        "colab": {
          "base_uri": "https://localhost:8080/"
        },
        "id": "uMOmAnV2Etj_",
        "outputId": "8ddd4e69-60aa-45f4-d792-e7196c5e31f7"
      },
      "source": [
        "tf.cast(tf.constant(444.1234),dtype=tf.int32)"
      ],
      "execution_count": null,
      "outputs": [
        {
          "output_type": "execute_result",
          "data": {
            "text/plain": [
              "<tf.Tensor: shape=(), dtype=int32, numpy=444>"
            ]
          },
          "metadata": {},
          "execution_count": 68
        }
      ]
    },
    {
      "cell_type": "markdown",
      "metadata": {
        "id": "eAg0psVZHS8l"
      },
      "source": [
        "## Ragged tensors\n",
        ">> nested variable length arrays --> use case in NLP, where the number of words in each line will be different"
      ]
    },
    {
      "cell_type": "code",
      "metadata": {
        "id": "KFjJd26wHOfY"
      },
      "source": [
        "ragged = tf.ragged.constant([[1,2,3,4,5], [], [1,2,3]])"
      ],
      "execution_count": null,
      "outputs": []
    },
    {
      "cell_type": "code",
      "metadata": {
        "colab": {
          "base_uri": "https://localhost:8080/"
        },
        "id": "oVj7wUZSH7k_",
        "outputId": "04296e98-cb43-420a-f798-e809ec6de6d4"
      },
      "source": [
        "ragged"
      ],
      "execution_count": null,
      "outputs": [
        {
          "output_type": "execute_result",
          "data": {
            "text/plain": [
              "<tf.RaggedTensor [[1, 2, 3, 4, 5], [], [1, 2, 3]]>"
            ]
          },
          "metadata": {},
          "execution_count": 70
        }
      ]
    },
    {
      "cell_type": "code",
      "metadata": {
        "colab": {
          "base_uri": "https://localhost:8080/",
          "height": 323
        },
        "id": "eaeGk7c1H82X",
        "outputId": "a02f76df-04cf-452d-cbf5-aa23fcd53f5b"
      },
      "source": [
        "# Throws error\n",
        "ragged = tf.constant([[1,2,3,4,5], [], [1,2,3]])"
      ],
      "execution_count": null,
      "outputs": [
        {
          "output_type": "error",
          "ename": "ValueError",
          "evalue": "ignored",
          "traceback": [
            "\u001b[0;31m---------------------------------------------------------------------------\u001b[0m",
            "\u001b[0;31mValueError\u001b[0m                                Traceback (most recent call last)",
            "\u001b[0;32m<ipython-input-71-e094d7214021>\u001b[0m in \u001b[0;36m<module>\u001b[0;34m()\u001b[0m\n\u001b[0;32m----> 1\u001b[0;31m \u001b[0mragged\u001b[0m \u001b[0;34m=\u001b[0m \u001b[0mtf\u001b[0m\u001b[0;34m.\u001b[0m\u001b[0mconstant\u001b[0m\u001b[0;34m(\u001b[0m\u001b[0;34m[\u001b[0m\u001b[0;34m[\u001b[0m\u001b[0;36m1\u001b[0m\u001b[0;34m,\u001b[0m\u001b[0;36m2\u001b[0m\u001b[0;34m,\u001b[0m\u001b[0;36m3\u001b[0m\u001b[0;34m,\u001b[0m\u001b[0;36m4\u001b[0m\u001b[0;34m,\u001b[0m\u001b[0;36m5\u001b[0m\u001b[0;34m]\u001b[0m\u001b[0;34m,\u001b[0m \u001b[0;34m[\u001b[0m\u001b[0;34m]\u001b[0m\u001b[0;34m,\u001b[0m \u001b[0;34m[\u001b[0m\u001b[0;36m1\u001b[0m\u001b[0;34m,\u001b[0m\u001b[0;36m2\u001b[0m\u001b[0;34m,\u001b[0m\u001b[0;36m3\u001b[0m\u001b[0;34m]\u001b[0m\u001b[0;34m]\u001b[0m\u001b[0;34m)\u001b[0m\u001b[0;34m\u001b[0m\u001b[0;34m\u001b[0m\u001b[0m\n\u001b[0m",
            "\u001b[0;32m/usr/local/lib/python3.7/dist-packages/tensorflow/python/framework/constant_op.py\u001b[0m in \u001b[0;36mconstant\u001b[0;34m(value, dtype, shape, name)\u001b[0m\n\u001b[1;32m    270\u001b[0m   \"\"\"\n\u001b[1;32m    271\u001b[0m   return _constant_impl(value, dtype, shape, name, verify_shape=False,\n\u001b[0;32m--> 272\u001b[0;31m                         allow_broadcast=True)\n\u001b[0m\u001b[1;32m    273\u001b[0m \u001b[0;34m\u001b[0m\u001b[0m\n\u001b[1;32m    274\u001b[0m \u001b[0;34m\u001b[0m\u001b[0m\n",
            "\u001b[0;32m/usr/local/lib/python3.7/dist-packages/tensorflow/python/framework/constant_op.py\u001b[0m in \u001b[0;36m_constant_impl\u001b[0;34m(value, dtype, shape, name, verify_shape, allow_broadcast)\u001b[0m\n\u001b[1;32m    281\u001b[0m       \u001b[0;32mwith\u001b[0m \u001b[0mtrace\u001b[0m\u001b[0;34m.\u001b[0m\u001b[0mTrace\u001b[0m\u001b[0;34m(\u001b[0m\u001b[0;34m\"tf.constant\"\u001b[0m\u001b[0;34m)\u001b[0m\u001b[0;34m:\u001b[0m\u001b[0;34m\u001b[0m\u001b[0;34m\u001b[0m\u001b[0m\n\u001b[1;32m    282\u001b[0m         \u001b[0;32mreturn\u001b[0m \u001b[0m_constant_eager_impl\u001b[0m\u001b[0;34m(\u001b[0m\u001b[0mctx\u001b[0m\u001b[0;34m,\u001b[0m \u001b[0mvalue\u001b[0m\u001b[0;34m,\u001b[0m \u001b[0mdtype\u001b[0m\u001b[0;34m,\u001b[0m \u001b[0mshape\u001b[0m\u001b[0;34m,\u001b[0m \u001b[0mverify_shape\u001b[0m\u001b[0;34m)\u001b[0m\u001b[0;34m\u001b[0m\u001b[0;34m\u001b[0m\u001b[0m\n\u001b[0;32m--> 283\u001b[0;31m     \u001b[0;32mreturn\u001b[0m \u001b[0m_constant_eager_impl\u001b[0m\u001b[0;34m(\u001b[0m\u001b[0mctx\u001b[0m\u001b[0;34m,\u001b[0m \u001b[0mvalue\u001b[0m\u001b[0;34m,\u001b[0m \u001b[0mdtype\u001b[0m\u001b[0;34m,\u001b[0m \u001b[0mshape\u001b[0m\u001b[0;34m,\u001b[0m \u001b[0mverify_shape\u001b[0m\u001b[0;34m)\u001b[0m\u001b[0;34m\u001b[0m\u001b[0;34m\u001b[0m\u001b[0m\n\u001b[0m\u001b[1;32m    284\u001b[0m \u001b[0;34m\u001b[0m\u001b[0m\n\u001b[1;32m    285\u001b[0m   \u001b[0mg\u001b[0m \u001b[0;34m=\u001b[0m \u001b[0mops\u001b[0m\u001b[0;34m.\u001b[0m\u001b[0mget_default_graph\u001b[0m\u001b[0;34m(\u001b[0m\u001b[0;34m)\u001b[0m\u001b[0;34m\u001b[0m\u001b[0;34m\u001b[0m\u001b[0m\n",
            "\u001b[0;32m/usr/local/lib/python3.7/dist-packages/tensorflow/python/framework/constant_op.py\u001b[0m in \u001b[0;36m_constant_eager_impl\u001b[0;34m(ctx, value, dtype, shape, verify_shape)\u001b[0m\n\u001b[1;32m    306\u001b[0m \u001b[0;32mdef\u001b[0m \u001b[0m_constant_eager_impl\u001b[0m\u001b[0;34m(\u001b[0m\u001b[0mctx\u001b[0m\u001b[0;34m,\u001b[0m \u001b[0mvalue\u001b[0m\u001b[0;34m,\u001b[0m \u001b[0mdtype\u001b[0m\u001b[0;34m,\u001b[0m \u001b[0mshape\u001b[0m\u001b[0;34m,\u001b[0m \u001b[0mverify_shape\u001b[0m\u001b[0;34m)\u001b[0m\u001b[0;34m:\u001b[0m\u001b[0;34m\u001b[0m\u001b[0;34m\u001b[0m\u001b[0m\n\u001b[1;32m    307\u001b[0m   \u001b[0;34m\"\"\"Creates a constant on the current device.\"\"\"\u001b[0m\u001b[0;34m\u001b[0m\u001b[0;34m\u001b[0m\u001b[0m\n\u001b[0;32m--> 308\u001b[0;31m   \u001b[0mt\u001b[0m \u001b[0;34m=\u001b[0m \u001b[0mconvert_to_eager_tensor\u001b[0m\u001b[0;34m(\u001b[0m\u001b[0mvalue\u001b[0m\u001b[0;34m,\u001b[0m \u001b[0mctx\u001b[0m\u001b[0;34m,\u001b[0m \u001b[0mdtype\u001b[0m\u001b[0;34m)\u001b[0m\u001b[0;34m\u001b[0m\u001b[0;34m\u001b[0m\u001b[0m\n\u001b[0m\u001b[1;32m    309\u001b[0m   \u001b[0;32mif\u001b[0m \u001b[0mshape\u001b[0m \u001b[0;32mis\u001b[0m \u001b[0;32mNone\u001b[0m\u001b[0;34m:\u001b[0m\u001b[0;34m\u001b[0m\u001b[0;34m\u001b[0m\u001b[0m\n\u001b[1;32m    310\u001b[0m     \u001b[0;32mreturn\u001b[0m \u001b[0mt\u001b[0m\u001b[0;34m\u001b[0m\u001b[0;34m\u001b[0m\u001b[0m\n",
            "\u001b[0;32m/usr/local/lib/python3.7/dist-packages/tensorflow/python/framework/constant_op.py\u001b[0m in \u001b[0;36mconvert_to_eager_tensor\u001b[0;34m(value, ctx, dtype)\u001b[0m\n\u001b[1;32m    104\u001b[0m       \u001b[0mdtype\u001b[0m \u001b[0;34m=\u001b[0m \u001b[0mdtypes\u001b[0m\u001b[0;34m.\u001b[0m\u001b[0mas_dtype\u001b[0m\u001b[0;34m(\u001b[0m\u001b[0mdtype\u001b[0m\u001b[0;34m)\u001b[0m\u001b[0;34m.\u001b[0m\u001b[0mas_datatype_enum\u001b[0m\u001b[0;34m\u001b[0m\u001b[0;34m\u001b[0m\u001b[0m\n\u001b[1;32m    105\u001b[0m   \u001b[0mctx\u001b[0m\u001b[0;34m.\u001b[0m\u001b[0mensure_initialized\u001b[0m\u001b[0;34m(\u001b[0m\u001b[0;34m)\u001b[0m\u001b[0;34m\u001b[0m\u001b[0;34m\u001b[0m\u001b[0m\n\u001b[0;32m--> 106\u001b[0;31m   \u001b[0;32mreturn\u001b[0m \u001b[0mops\u001b[0m\u001b[0;34m.\u001b[0m\u001b[0mEagerTensor\u001b[0m\u001b[0;34m(\u001b[0m\u001b[0mvalue\u001b[0m\u001b[0;34m,\u001b[0m \u001b[0mctx\u001b[0m\u001b[0;34m.\u001b[0m\u001b[0mdevice_name\u001b[0m\u001b[0;34m,\u001b[0m \u001b[0mdtype\u001b[0m\u001b[0;34m)\u001b[0m\u001b[0;34m\u001b[0m\u001b[0;34m\u001b[0m\u001b[0m\n\u001b[0m\u001b[1;32m    107\u001b[0m \u001b[0;34m\u001b[0m\u001b[0m\n\u001b[1;32m    108\u001b[0m \u001b[0;34m\u001b[0m\u001b[0m\n",
            "\u001b[0;31mValueError\u001b[0m: Can't convert non-rectangular Python sequence to Tensor."
          ]
        }
      ]
    },
    {
      "cell_type": "code",
      "metadata": {
        "colab": {
          "base_uri": "https://localhost:8080/"
        },
        "id": "bUpZSR5aIAjO",
        "outputId": "6050003f-e895-4acc-d876-d12232197612"
      },
      "source": [
        "ragged.shape # (3,None) >> (# of rows, columns could varry)"
      ],
      "execution_count": null,
      "outputs": [
        {
          "output_type": "execute_result",
          "data": {
            "text/plain": [
              "TensorShape([3, None])"
            ]
          },
          "metadata": {},
          "execution_count": 72
        }
      ]
    },
    {
      "cell_type": "code",
      "metadata": {
        "colab": {
          "base_uri": "https://localhost:8080/"
        },
        "id": "BE8-4okHIE4V",
        "outputId": "dd143b6d-e50f-44c4-8957-fbe55e50d873"
      },
      "source": [
        "# Checking individual shape of matrix\n",
        "ragged[0,:].shape"
      ],
      "execution_count": null,
      "outputs": [
        {
          "output_type": "execute_result",
          "data": {
            "text/plain": [
              "TensorShape([5])"
            ]
          },
          "metadata": {},
          "execution_count": 73
        }
      ]
    },
    {
      "cell_type": "code",
      "metadata": {
        "colab": {
          "base_uri": "https://localhost:8080/"
        },
        "id": "owwUGnMVIOWQ",
        "outputId": "9e457b02-cc1e-4da0-ab30-cbc67753643e"
      },
      "source": [
        "ragged[1,:].shape"
      ],
      "execution_count": null,
      "outputs": [
        {
          "output_type": "execute_result",
          "data": {
            "text/plain": [
              "TensorShape([0])"
            ]
          },
          "metadata": {},
          "execution_count": 74
        }
      ]
    },
    {
      "cell_type": "markdown",
      "metadata": {
        "id": "TZpaZ3QUIp_2"
      },
      "source": [
        "## Squared difference of tensors"
      ]
    },
    {
      "cell_type": "code",
      "metadata": {
        "colab": {
          "base_uri": "https://localhost:8080/"
        },
        "id": "ynqfTQPzIVpG",
        "outputId": "1ae026b9-5e61-4fb9-f35a-3b279f6bb6ca"
      },
      "source": [
        "varx = [1,2,3,4,5,6]\n",
        "vary = 2\n",
        "\n",
        "tf.math.squared_difference(varx,vary) # used during calculating errors"
      ],
      "execution_count": null,
      "outputs": [
        {
          "output_type": "execute_result",
          "data": {
            "text/plain": [
              "<tf.Tensor: shape=(6,), dtype=int32, numpy=array([ 1,  0,  1,  4,  9, 16], dtype=int32)>"
            ]
          },
          "metadata": {},
          "execution_count": 75
        }
      ]
    },
    {
      "cell_type": "code",
      "metadata": {
        "colab": {
          "base_uri": "https://localhost:8080/"
        },
        "id": "a2MUugI3IzS4",
        "outputId": "97565a68-98bb-4c3e-dcba-200970e37196"
      },
      "source": [
        "pred = [1,2,3,4,5,6]\n",
        "actual = [1,1,1,1,1,1]\n",
        "\n",
        "tf.math.squared_difference(pred ,actual) # used duringcalculating errors"
      ],
      "execution_count": null,
      "outputs": [
        {
          "output_type": "execute_result",
          "data": {
            "text/plain": [
              "<tf.Tensor: shape=(6,), dtype=int32, numpy=array([ 0,  1,  4,  9, 16, 25], dtype=int32)>"
            ]
          },
          "metadata": {},
          "execution_count": 77
        }
      ]
    },
    {
      "cell_type": "markdown",
      "metadata": {
        "id": "p0n_LiF3JNum"
      },
      "source": [
        "## Calculating mean"
      ]
    },
    {
      "cell_type": "code",
      "metadata": {
        "colab": {
          "base_uri": "https://localhost:8080/"
        },
        "id": "Wp6HC6a1JFyX",
        "outputId": "8a751f92-fb38-4fdd-d724-92c64f5edf7b"
      },
      "source": [
        "num = tf.constant([[1,2], [3,4]],dtype = tf.float32)\n",
        "num"
      ],
      "execution_count": null,
      "outputs": [
        {
          "output_type": "execute_result",
          "data": {
            "text/plain": [
              "<tf.Tensor: shape=(2, 2), dtype=float32, numpy=\n",
              "array([[1., 2.],\n",
              "       [3., 4.]], dtype=float32)>"
            ]
          },
          "metadata": {},
          "execution_count": 83
        }
      ]
    },
    {
      "cell_type": "code",
      "metadata": {
        "colab": {
          "base_uri": "https://localhost:8080/"
        },
        "id": "VYWW-NFLJZBv",
        "outputId": "8e0c5e8d-22f1-4722-d387-0dfe910c9a24"
      },
      "source": [
        "tf.reduce_mean(num) # MEan of all the elements in the array"
      ],
      "execution_count": null,
      "outputs": [
        {
          "output_type": "execute_result",
          "data": {
            "text/plain": [
              "<tf.Tensor: shape=(), dtype=float32, numpy=2.5>"
            ]
          },
          "metadata": {},
          "execution_count": 84
        }
      ]
    },
    {
      "cell_type": "code",
      "metadata": {
        "colab": {
          "base_uri": "https://localhost:8080/"
        },
        "id": "fWZLZgrJJdjA",
        "outputId": "b8f39a48-f3f9-46f1-a19c-e2ed356c975a"
      },
      "source": [
        "tf.reduce_mean(num,axis = 0) # row wise mean"
      ],
      "execution_count": null,
      "outputs": [
        {
          "output_type": "execute_result",
          "data": {
            "text/plain": [
              "<tf.Tensor: shape=(2,), dtype=float32, numpy=array([2., 3.], dtype=float32)>"
            ]
          },
          "metadata": {},
          "execution_count": 85
        }
      ]
    },
    {
      "cell_type": "code",
      "metadata": {
        "colab": {
          "base_uri": "https://localhost:8080/"
        },
        "id": "wnXqdhywJhfX",
        "outputId": "043ccf0e-1cda-4885-9a46-c5936e81e9f3"
      },
      "source": [
        "tf.reduce_mean(num,axis = 1) # column wise mean"
      ],
      "execution_count": null,
      "outputs": [
        {
          "output_type": "execute_result",
          "data": {
            "text/plain": [
              "<tf.Tensor: shape=(2,), dtype=float32, numpy=array([1.5, 3.5], dtype=float32)>"
            ]
          },
          "metadata": {},
          "execution_count": 86
        }
      ]
    },
    {
      "cell_type": "code",
      "metadata": {
        "colab": {
          "base_uri": "https://localhost:8080/"
        },
        "id": "nlgcoio5JuB3",
        "outputId": "ad1cd33f-98d9-4d61-8529-cd9284b408c8"
      },
      "source": [
        "tf.reduce_mean(num,axis = 1,keepdims=True) # column wise mean but keeps the dimention of the array"
      ],
      "execution_count": null,
      "outputs": [
        {
          "output_type": "execute_result",
          "data": {
            "text/plain": [
              "<tf.Tensor: shape=(2, 1), dtype=float32, numpy=\n",
              "array([[1.5],\n",
              "       [3.5]], dtype=float32)>"
            ]
          },
          "metadata": {},
          "execution_count": 87
        }
      ]
    },
    {
      "cell_type": "code",
      "metadata": {
        "id": "yEPQE2VJKT5Q"
      },
      "source": [
        ""
      ],
      "execution_count": null,
      "outputs": []
    }
  ]
}